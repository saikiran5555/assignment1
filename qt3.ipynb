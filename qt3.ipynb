{
 "cells": [
  {
   "cell_type": "code",
   "execution_count": 6,
   "metadata": {},
   "outputs": [
    {
     "ename": "SyntaxError",
     "evalue": "invalid syntax. Perhaps you forgot a comma? (1478680154.py, line 1)",
     "output_type": "error",
     "traceback": [
      "\u001b[1;36m  Cell \u001b[1;32mIn[6], line 1\u001b[1;36m\u001b[0m\n\u001b[1;33m    (i) / (Division Operator):\u001b[0m\n\u001b[1;37m           ^\u001b[0m\n\u001b[1;31mSyntaxError\u001b[0m\u001b[1;31m:\u001b[0m invalid syntax. Perhaps you forgot a comma?\n"
     ]
    }
   ],
   "source": [
    "(i) / (Division Operator): \n",
    "The division operator '/' is used to divide one number by another \n",
    "example:\n",
    "a = 10 / 3\n",
    "print(a)\n",
    "output:\n",
    "3.333333333333"
   ]
  },
  {
   "cell_type": "code",
   "execution_count": null,
   "metadata": {},
   "outputs": [],
   "source": [
    "(ii) % (Modulus Operator):\n",
    "The modulus operator % returns the remainder when one number is divided by another. \n",
    "example:\n",
    "b = 10 % 3\n",
    "print(b) \n",
    "output:\n",
    "1"
   ]
  },
  {
   "cell_type": "code",
   "execution_count": null,
   "metadata": {},
   "outputs": [],
   "source": [
    "(iii) // (Floor Division Operator):\n",
    "The floor division operator // divides one number by another and returns the quotient as an integer, rounded down to the nearest whole number (floor value).\n",
    "example:\n",
    "c = 10 // 3\n",
    "print(c)\n",
    "output:\n",
    "3"
   ]
  },
  {
   "cell_type": "code",
   "execution_count": null,
   "metadata": {},
   "outputs": [],
   "source": [
    "(iv) ** (Exponent Operator):\n",
    "The exponent operator ** raises a number to the power of another number\n",
    "example:\n",
    "d = 2 ** 3\n",
    "print(d)\n",
    "output:\n",
    "8"
   ]
  }
 ],
 "metadata": {
  "kernelspec": {
   "display_name": "Python 3",
   "language": "python",
   "name": "python3"
  },
  "language_info": {
   "codemirror_mode": {
    "name": "ipython",
    "version": 3
   },
   "file_extension": ".py",
   "mimetype": "text/x-python",
   "name": "python",
   "nbconvert_exporter": "python",
   "pygments_lexer": "ipython3",
   "version": "3.11.1"
  },
  "orig_nbformat": 4
 },
 "nbformat": 4,
 "nbformat_minor": 2
}
