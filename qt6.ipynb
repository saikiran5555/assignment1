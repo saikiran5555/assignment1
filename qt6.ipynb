{
 "cells": [
  {
   "attachments": {},
   "cell_type": "markdown",
   "metadata": {},
   "source": []
  },
  {
   "cell_type": "code",
   "execution_count": 1,
   "metadata": {},
   "outputs": [
    {
     "name": "stdout",
     "output_type": "stream",
     "text": [
      "9 is divisible by 3\n",
      "12 is divisible by 3\n",
      "7 is not divisible by 3\n",
      "18 is divisible by 3\n",
      "25 is not divisible by 3\n",
      "36 is divisible by 3\n",
      "41 is not divisible by 3\n",
      "30 is divisible by 3\n",
      "15 is divisible by 3\n",
      "8 is not divisible by 3\n",
      "33 is divisible by 3\n",
      "21 is divisible by 3\n",
      "14 is not divisible by 3\n",
      "27 is divisible by 3\n",
      "5 is not divisible by 3\n",
      "22 is not divisible by 3\n",
      "39 is divisible by 3\n",
      "10 is not divisible by 3\n",
      "17 is not divisible by 3\n",
      "42 is divisible by 3\n",
      "31 is not divisible by 3\n",
      "20 is not divisible by 3\n",
      "24 is divisible by 3\n",
      "6 is divisible by 3\n",
      "29 is not divisible by 3\n"
     ]
    }
   ],
   "source": [
    "t = [9, 12, 7, 18, 25, 36, 41, 30, 15, 8, 33, 21, 14, 27, 5, 22, 39, 10, 17, 42, 31, 20, 24, 6, 29]\n",
    "for element in t:\n",
    "    if element % 3 == 0:\n",
    "        print(f\"{element} is divisible by 3\")\n",
    "    else:\n",
    "        print(f\"{element} is not divisible by 3\")\n"
   ]
  }
 ],
 "metadata": {
  "kernelspec": {
   "display_name": "Python 3",
   "language": "python",
   "name": "python3"
  },
  "language_info": {
   "codemirror_mode": {
    "name": "ipython",
    "version": 3
   },
   "file_extension": ".py",
   "mimetype": "text/x-python",
   "name": "python",
   "nbconvert_exporter": "python",
   "pygments_lexer": "ipython3",
   "version": "3.11.1"
  },
  "orig_nbformat": 4
 },
 "nbformat": 4,
 "nbformat_minor": 2
}
